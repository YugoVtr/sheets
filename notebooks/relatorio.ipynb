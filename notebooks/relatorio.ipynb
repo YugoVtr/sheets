{
 "cells": [
  {
   "cell_type": "markdown",
   "id": "b543dec5",
   "metadata": {},
   "source": [
    "# Config"
   ]
  },
  {
   "cell_type": "code",
   "execution_count": null,
   "id": "f631601f",
   "metadata": {},
   "outputs": [],
   "source": [
    "import pandas as pd\n",
    "import glob\n",
    "pd.options.display.max_rows = 10000"
   ]
  },
  {
   "cell_type": "markdown",
   "id": "2139899f",
   "metadata": {},
   "source": [
    "# Read files"
   ]
  },
  {
   "cell_type": "code",
   "execution_count": null,
   "id": "07db5446",
   "metadata": {},
   "outputs": [],
   "source": [
    "file_dir = \"/csv\"\n",
    "\n",
    "csv_files = glob.glob('{}/*.{}'.format(file_dir, 'csv'))\n",
    "print(\"count of files: %s\" % len(csv_files))"
   ]
  },
  {
   "cell_type": "code",
   "execution_count": null,
   "id": "04b510b2",
   "metadata": {},
   "outputs": [],
   "source": [
    "df = pd.concat([pd.read_csv(file) for file in csv_files])\n",
    "\n",
    "df['Data'] = pd.to_datetime(df['Data'], format='%d/%m/%Y')\n",
    "\n",
    "df = df.sort_values(by=[\"Data\"])\n",
    "\n",
    "import datetime\n",
    "begin = datetime.datetime.strptime('01/08/2022', '%d/%m/%Y')\n",
    "end = datetime.datetime.strptime('31/12/2022', '%d/%m/%Y')\n",
    "\n",
    "df = df.loc[(df['Data'] >= begin) & (df['Data'] < end)]\n",
    "df"
   ]
  },
  {
   "cell_type": "markdown",
   "id": "edc20fce",
   "metadata": {},
   "source": [
    "# Plots"
   ]
  },
  {
   "cell_type": "code",
   "execution_count": null,
   "id": "f8a087a3",
   "metadata": {},
   "outputs": [],
   "source": [
    "import matplotlib.pyplot as plot\n",
    "\n",
    "column_to_group = \"Data\"\n",
    "date_df = df.groupby([column_to_group]).count()\n",
    "\n",
    "fig, ax = plot.subplots(figsize=(32,12))\n",
    "date_df.plot(y=\"Identificador\", kind='bar', ax=ax);"
   ]
  },
  {
   "cell_type": "code",
   "execution_count": null,
   "id": "a86487a3",
   "metadata": {
    "scrolled": true
   },
   "outputs": [],
   "source": [
    "column_to_group = \"Descrição\"\n",
    "descr_df = df.groupby([column_to_group]).count().sort_values(by=[\"Identificador\"], ascending=False)\n",
    "descr_df"
   ]
  }
 ],
 "metadata": {
  "kernelspec": {
   "display_name": "Python 3 (ipykernel)",
   "language": "python",
   "name": "python3"
  },
  "language_info": {
   "codemirror_mode": {
    "name": "ipython",
    "version": 3
   },
   "file_extension": ".py",
   "mimetype": "text/x-python",
   "name": "python",
   "nbconvert_exporter": "python",
   "pygments_lexer": "ipython3",
   "version": "3.9.13"
  }
 },
 "nbformat": 4,
 "nbformat_minor": 5
}
